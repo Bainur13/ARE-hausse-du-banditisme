{
 "cells": [
  {
   "cell_type": "code",
   "execution_count": 83,
   "metadata": {},
   "outputs": [
    {
     "data": {
      "text/plain": [
       "array([[1, 0, 0, 0, 1, 1, 1, 0, 0, 0],\n",
       "       [0, 1, 1, 1, 0, 1, 1, 1, 1, 1],\n",
       "       [0, 1, 1, 0, 1, 1, 0, 0, 1, 1],\n",
       "       [1, 0, 1, 1, 0, 0, 0, 1, 1, 1],\n",
       "       [0, 1, 1, 0, 1, 1, 1, 1, 0, 1],\n",
       "       [0, 1, 1, 1, 0, 0, 0, 0, 1, 0],\n",
       "       [0, 1, 0, 1, 1, 1, 1, 1, 1, 1],\n",
       "       [0, 1, 1, 1, 1, 1, 0, 1, 1, 1],\n",
       "       [1, 1, 1, 1, 0, 0, 1, 0, 1, 1],\n",
       "       [1, 1, 1, 0, 1, 1, 0, 0, 0, 0]], dtype=int32)"
      ]
     },
     "execution_count": 83,
     "metadata": {},
     "output_type": "execute_result"
    }
   ],
   "source": [
    "import numpy as np\n",
    "import random\n",
    "\n",
    "def tableauBase(P):\n",
    "     \n",
    "    tableau_de_zero = np.zeros((10,10), dtype='i')\n",
    "    for i in range(len(tableau_de_zero)):\n",
    "        for j in range(len(tableau_de_zero)):\n",
    "            if random.random() < P :\n",
    "                tableau_de_zero[i,j] = 1\n",
    "            \n",
    "    return (tableau_de_zero)\n",
    "    \n",
    "tableauBase(0.5)"
   ]
  },
  {
   "cell_type": "code",
   "execution_count": 89,
   "metadata": {},
   "outputs": [
    {
     "name": "stdout",
     "output_type": "stream",
     "text": [
      "[[1 0 1 1 0 1 0 0 0 1]\n",
      " [0 0 0 1 0 1 0 1 1 1]\n",
      " [0 1 1 0 0 0 1 0 0 0]\n",
      " [1 0 0 0 1 1 0 1 0 1]\n",
      " [1 1 0 0 1 0 1 0 1 0]\n",
      " [0 0 0 0 1 0 1 0 0 1]\n",
      " [1 1 0 0 1 0 1 1 1 0]\n",
      " [1 0 1 1 1 0 0 1 1 1]\n",
      " [1 1 0 0 0 1 1 0 1 0]\n",
      " [1 0 0 0 0 0 0 1 0 1]]\n"
     ]
    },
    {
     "data": {
      "text/plain": [
       "array([[1, 0, 1, 1, 3, 1, 0, 0, 0, 1],\n",
       "       [0, 0, 0, 3, 3, 3, 0, 1, 1, 1],\n",
       "       [0, 1, 1, 0, 3, 0, 1, 0, 0, 0],\n",
       "       [1, 0, 0, 0, 1, 1, 0, 3, 0, 1],\n",
       "       [1, 1, 0, 0, 1, 0, 3, 3, 3, 0],\n",
       "       [0, 0, 0, 0, 1, 3, 1, 3, 0, 1],\n",
       "       [1, 1, 0, 0, 3, 3, 3, 1, 1, 0],\n",
       "       [1, 0, 1, 1, 3, 3, 0, 1, 1, 1],\n",
       "       [1, 1, 0, 3, 3, 3, 1, 0, 1, 0],\n",
       "       [1, 0, 0, 0, 3, 0, 0, 1, 0, 1]], dtype=int32)"
      ]
     },
     "execution_count": 89,
     "metadata": {},
     "output_type": "execute_result"
    }
   ],
   "source": [
    "def creationDeGang(P):\n",
    "    \"\"\"H: nous voulons savoir si un carré crée un groupe de gang (nommé 3)\"\"\"\n",
    "    \n",
    "    tableau = tableauBase(P)\n",
    "    print (tableau)\n",
    "    for i in range(len(tableau)) :\n",
    "        for j in range(len(tableau)) :\n",
    "            if  i+1 < len(tableau) and i-1 >= 0:\n",
    "                 if tableau[i,j] == 0 and tableau[i+1,j]==0  and tableau[i+1,j+1]==0 and tableau[i,j+1] :\n",
    "                    tableau[i,j] = 3\n",
    "                    tableau[i+1,j]=3  \n",
    "                    tableau[i-1,j] =3 \n",
    "                    tableau[i,j-1]=3\n",
    "                    tableau[i,j+1]=3\n",
    "                    \n",
    "            \"\"\"\"if j+3 < len(tableau):\n",
    "                if tableau[i,j] == 0 and tableau[i,j+1] == 0 and tableau [i, j+2] == 0 and tableau[i,j+3] == 0 : \n",
    "                    tableau [i,j] = 3\n",
    "                    tableau [i,j+1] = 3\n",
    "                    tableau [i,j+2] = 3\n",
    "                    tableau [i, j+3] = 3\"\"\"\n",
    "    return tableau\n",
    "#modifier le programme refaire tt et montrer a chaque fois qu'il y a un changement ,ajouter aussi que les riche parte quand il y a un gang (1 = 0)\n",
    "creationDeGang(0.5)"
   ]
  },
  {
   "cell_type": "code",
   "execution_count": null,
   "metadata": {},
   "outputs": [],
   "source": []
  }
 ],
 "metadata": {
  "kernelspec": {
   "display_name": "Python 3",
   "language": "python",
   "name": "python3"
  },
  "language_info": {
   "codemirror_mode": {
    "name": "ipython",
    "version": 3
   },
   "file_extension": ".py",
   "mimetype": "text/x-python",
   "name": "python",
   "nbconvert_exporter": "python",
   "pygments_lexer": "ipython3",
   "version": "3.7.1"
  }
 },
 "nbformat": 4,
 "nbformat_minor": 2
}
