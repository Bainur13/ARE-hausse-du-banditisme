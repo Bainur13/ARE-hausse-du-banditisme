{
 "cells": [
  {
   "cell_type": "code",
   "execution_count": 56,
   "metadata": {},
   "outputs": [
    {
     "name": "stdout",
     "output_type": "stream",
     "text": [
      "\n",
      "\n",
      "\t\t VILLE BASIQUE\n",
      "\n",
      "\n",
      "\n"
     ]
    },
    {
     "data": {
      "text/plain": [
       "array([[0, 0, 1, 0, 1, 0, 0, 1, 0, 0],\n",
       "       [0, 0, 1, 0, 1, 0, 0, 1, 1, 0],\n",
       "       [1, 1, 1, 0, 1, 1, 0, 0, 0, 0],\n",
       "       [1, 0, 1, 0, 1, 1, 1, 1, 0, 1],\n",
       "       [1, 0, 1, 0, 1, 0, 1, 0, 0, 1],\n",
       "       [0, 1, 0, 1, 0, 0, 1, 0, 1, 1],\n",
       "       [1, 1, 0, 0, 0, 1, 1, 0, 0, 0],\n",
       "       [1, 0, 0, 0, 1, 1, 0, 0, 1, 1],\n",
       "       [1, 1, 0, 0, 0, 1, 1, 1, 1, 1],\n",
       "       [0, 1, 0, 0, 1, 1, 0, 1, 0, 1]], dtype=int32)"
      ]
     },
     "execution_count": 56,
     "metadata": {},
     "output_type": "execute_result"
    }
   ],
   "source": [
    "import numpy as np\n",
    "import random\n",
    "\n",
    "def tableauBase(P):\n",
    "     \n",
    "    tableau_de_zero_un = np.zeros((10,10), dtype='i')\n",
    "    for i in range(len(tableau_de_zero_un)):\n",
    "        for j in range(len(tableau_de_zero_un)):\n",
    "            if random.random() < P :\n",
    "                tableau_de_zero_un[i,j] = 1\n",
    "    print(\"\\n\\n\\t\\t VILLE BASIQUE\\n\\n\\n\")\n",
    "    return (tableau_de_zero_un)\n",
    "    \n",
    "tableauBase(0.5)"
   ]
  },
  {
   "cell_type": "code",
   "execution_count": 90,
   "metadata": {},
   "outputs": [
    {
     "name": "stdout",
     "output_type": "stream",
     "text": [
      "\n",
      "\n",
      "\t\t VILLE BASIQUE\n",
      "\n",
      "\n",
      "\n",
      "[[0 1 0 1 0 0 0 0 1 0]\n",
      " [1 1 0 1 1 1 0 1 0 0]\n",
      " [0 1 0 1 1 0 0 0 1 0]\n",
      " [1 1 0 1 0 1 1 0 1 0]\n",
      " [0 0 1 0 0 0 0 1 0 1]\n",
      " [1 0 0 0 1 0 0 1 0 0]\n",
      " [0 0 0 0 1 0 0 1 1 0]\n",
      " [0 0 0 0 0 1 1 0 0 0]\n",
      " [0 1 0 1 0 1 0 0 0 0]\n",
      " [0 1 1 1 0 1 0 1 0 0]]\n",
      "\n",
      "\n",
      "\t\t VILLE AVEC GANG\n",
      "\n",
      "\n",
      "\n"
     ]
    },
    {
     "data": {
      "text/plain": [
       "array([[0, 1, 0, 1, 0, 0, 0, 0, 1, 0],\n",
       "       [1, 1, 0, 1, 1, 1, 0, 1, 0, 0],\n",
       "       [0, 1, 0, 1, 1, 0, 0, 0, 1, 0],\n",
       "       [1, 1, 0, 1, 0, 1, 1, 0, 1, 0],\n",
       "       [0, 0, 1, 0, 0, 3, 3, 1, 0, 1],\n",
       "       [1, 3, 3, 0, 1, 3, 3, 1, 0, 0],\n",
       "       [0, 3, 3, 0, 1, 0, 0, 1, 1, 0],\n",
       "       [0, 0, 0, 0, 0, 1, 1, 3, 3, 0],\n",
       "       [0, 1, 0, 1, 0, 1, 0, 3, 3, 0],\n",
       "       [0, 1, 1, 1, 0, 1, 0, 1, 0, 0]], dtype=int32)"
      ]
     },
     "execution_count": 90,
     "metadata": {},
     "output_type": "execute_result"
    }
   ],
   "source": [
    "def creationDeGang(P):\n",
    "    \"\"\"H: nous voulons savoir si un carré crée un groupe de gang (nommé 3)\"\"\"\n",
    "    \n",
    "    tableau = tableauBase(P)\n",
    "    print (tableau)\n",
    "    for i in range(len(tableau)) :\n",
    "        for j in range(len(tableau)) :\n",
    "            if  i+1 < len(tableau) and i-1 >= 0 and  j+1 < len(tableau) and j-1 >= 0:\n",
    "                 if tableau[i,j] == 0 and tableau[i+1,j]==0  and tableau[i,j+1]==0 and tableau[i+1,j+1]==0 :\n",
    "                    \n",
    "                    tableau[i,j] = 3\n",
    "                    tableau[i+1,j]=3  \n",
    "     \n",
    "                    tableau[i,j+1]=3\n",
    "                    tableau[i+1,j+1]=3\n",
    "                    \n",
    "    print(\"\\n\\n\\t\\t VILLE AVEC GANG\\n\\n\\n\")\n",
    "    return tableau\n",
    "#modifier le programme refaire tt et montrer a chaque fois qu'il y a un changement ,ajouter aussi que les riche parte quand il y a un gang (1 = 0)\n",
    "creationDeGang(0.5)"
   ]
  },
  {
   "cell_type": "markdown",
   "metadata": {},
   "source": [
    "***On remarque que il y a des gangs qui se crée peu a peu dut a la grande presece de 0 (de pauvreté)***"
   ]
  },
  {
   "cell_type": "code",
   "execution_count": 121,
   "metadata": {},
   "outputs": [
    {
     "name": "stdout",
     "output_type": "stream",
     "text": [
      "\n",
      "\n",
      "\t\t VILLE BASIQUE\n",
      "\n",
      "\n",
      "\n",
      "[[1 0 0 1 1 0 1 1 0 1]\n",
      " [1 1 1 0 0 1 1 0 1 0]\n",
      " [1 1 1 0 0 0 0 0 1 0]\n",
      " [1 0 1 1 0 1 1 1 1 0]\n",
      " [1 1 1 0 0 0 0 1 0 1]\n",
      " [1 0 0 0 1 0 1 0 0 0]\n",
      " [0 0 0 1 1 0 1 0 0 1]\n",
      " [1 1 0 1 0 0 1 0 0 0]\n",
      " [0 1 1 1 0 0 1 1 1 0]\n",
      " [1 1 0 1 0 0 0 0 0 0]]\n",
      "\n",
      "\n",
      "\t\t VILLE AVEC GANG\n",
      "\n",
      "\n",
      "\n",
      "[[1 0 0 1 1 0 1 1 0 1]\n",
      " [1 1 1 3 3 1 1 0 1 0]\n",
      " [1 1 1 3 3 0 0 0 1 0]\n",
      " [1 0 1 1 0 1 1 1 1 0]\n",
      " [1 1 1 0 0 0 0 1 0 1]\n",
      " [1 3 3 0 1 0 1 3 3 0]\n",
      " [0 3 3 1 1 0 1 3 3 1]\n",
      " [1 1 0 1 3 3 1 0 0 0]\n",
      " [0 1 1 1 3 3 1 1 1 0]\n",
      " [1 1 0 1 0 0 0 0 0 0]]\n",
      "\n",
      "\n",
      "\t\t REACTION HABITANT\n",
      "\n",
      "\n",
      "\n"
     ]
    },
    {
     "data": {
      "text/plain": [
       "array([[1, 0, 0, 1, 1, 0, 1, 1, 0, 1],\n",
       "       [1, 1, 1, 3, 3, 1, 1, 0, 1, 0],\n",
       "       [1, 1, 1, 3, 3, 0, 0, 0, 1, 0],\n",
       "       [1, 0, 1, 1, 0, 1, 1, 1, 1, 0],\n",
       "       [1, 1, 1, 0, 0, 0, 0, 1, 0, 1],\n",
       "       [1, 3, 3, 0, 1, 0, 1, 3, 3, 0],\n",
       "       [0, 3, 3, 1, 1, 0, 1, 3, 3, 1],\n",
       "       [1, 1, 0, 1, 3, 3, 1, 0, 0, 0],\n",
       "       [0, 1, 1, 1, 3, 3, 1, 1, 1, 0],\n",
       "       [1, 1, 0, 1, 0, 0, 0, 0, 0, 0]], dtype=int32)"
      ]
     },
     "execution_count": 121,
     "metadata": {},
     "output_type": "execute_result"
    }
   ],
   "source": [
    "def creationInfluenceDeGang(P):\n",
    "    \n",
    "    tableau= creationDeGang(P)\n",
    "    \n",
    "    print(tableau)\n",
    "    for i in range(len(tableau)) :\n",
    "        for j in range(len(tableau)) :\n",
    "             if  i+1 < len(tableau) and i-1 >= 0 and  j+1 < len(tableau) and j-1 >= 0 :    \n",
    "                \n",
    "                    if tableau[i,j-1] == 1 :\n",
    "                        tableau[i,j-1] == 0\n",
    "                                \n",
    "                    elif tableau[i+1,j] == 1 :\n",
    "                        tableau[i+1,j] == 0\n",
    "                                \n",
    "                    elif tableau[i,j+1] == 1 :\n",
    "                        tableau[i,j+1] == 0\n",
    "                                    \n",
    "                    elif tableau[i-1,j] == 1 :\n",
    "                        tableau[i-1,j] == 0\n",
    "    \n",
    "    print(\"\\n\\n\\t\\t REACTION HABITANT\\n\\n\\n\")\n",
    "    return tableau\n",
    "#ne se change pas verifier\n",
    "creationInfluenceDeGang(0.5)"
   ]
  }
 ],
 "metadata": {
  "kernelspec": {
   "display_name": "Python 3",
   "language": "python",
   "name": "python3"
  },
  "language_info": {
   "codemirror_mode": {
    "name": "ipython",
    "version": 3
   },
   "file_extension": ".py",
   "mimetype": "text/x-python",
   "name": "python",
   "nbconvert_exporter": "python",
   "pygments_lexer": "ipython3",
   "version": "3.7.1"
  }
 },
 "nbformat": 4,
 "nbformat_minor": 2
}
