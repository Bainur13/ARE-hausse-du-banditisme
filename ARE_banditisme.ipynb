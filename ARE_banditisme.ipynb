{
 "cells": [
  {
   "cell_type": "markdown",
   "metadata": {},
   "source": [
    "# SOCIETE "
   ]
  },
  {
   "cell_type": "markdown",
   "metadata": {},
   "source": [
    "*** Dans la premiere matrice on place les riches(modélisé à 1) et les pauvres (modélisé à 0) selon la probabilités que nous donnons ***"
   ]
  },
  {
   "cell_type": "code",
   "execution_count": 22,
   "metadata": {},
   "outputs": [
    {
     "name": "stdout",
     "output_type": "stream",
     "text": [
      "\n",
      "\n",
      "\t\t VILLE BASIQUE\n",
      "\n",
      "\n",
      "\n"
     ]
    },
    {
     "data": {
      "text/plain": [
       "array([[1, 0, 1, 1, 1, 1, 1, 1, 1, 1],\n",
       "       [1, 0, 0, 0, 0, 0, 1, 1, 1, 0],\n",
       "       [1, 1, 0, 0, 0, 0, 0, 0, 1, 0],\n",
       "       [1, 0, 0, 0, 1, 0, 0, 0, 0, 0],\n",
       "       [1, 0, 1, 0, 0, 1, 1, 1, 1, 1],\n",
       "       [1, 0, 0, 0, 1, 1, 0, 1, 0, 0],\n",
       "       [1, 1, 0, 1, 1, 0, 0, 1, 0, 1],\n",
       "       [0, 1, 1, 0, 0, 1, 1, 1, 1, 1],\n",
       "       [1, 0, 1, 1, 1, 1, 1, 1, 0, 0],\n",
       "       [1, 1, 1, 1, 1, 1, 0, 0, 1, 1]], dtype=int32)"
      ]
     },
     "execution_count": 22,
     "metadata": {},
     "output_type": "execute_result"
    }
   ],
   "source": [
    "\n",
    "import numpy as np\n",
    "import random\n",
    "\n",
    "def tableauBase(P):\n",
    "    \"\"\"les O sont les batiments pauvres et 1 les batiments riches.\"\"\"\n",
    "    tableau_de_zero_un = np.zeros((10,10), dtype='i')\n",
    "    for i in range(len(tableau_de_zero_un)):\n",
    "        for j in range(len(tableau_de_zero_un)):\n",
    "            if random.random() < P :\n",
    "                tableau_de_zero_un[i,j] = 1\n",
    "    print(\"\\n\\n\\t\\t VILLE BASIQUE\\n\\n\\n\")\n",
    "    return (tableau_de_zero_un)\n",
    "    \n",
    "tableauBase(0.6)"
   ]
  },
  {
   "cell_type": "markdown",
   "metadata": {},
   "source": [
    "*** la deuxieme matrice represente la creation de gang dû à la présence d'un \" carré\"(de -1) de 4 \"batiments\" de pauvres.***"
   ]
  },
  {
   "cell_type": "code",
   "execution_count": 23,
   "metadata": {},
   "outputs": [
    {
     "name": "stdout",
     "output_type": "stream",
     "text": [
      "\n",
      "\n",
      "\t\t VILLE BASIQUE\n",
      "\n",
      "\n",
      "\n",
      "[[1 1 0 0 0 1 1 0 0 0]\n",
      " [1 1 1 1 1 0 1 1 0 0]\n",
      " [1 1 1 1 0 1 0 1 1 1]\n",
      " [1 0 1 1 0 1 0 0 1 1]\n",
      " [0 1 1 1 1 0 1 1 1 0]\n",
      " [0 1 1 0 0 1 1 1 1 0]\n",
      " [1 1 1 0 1 0 1 1 1 1]\n",
      " [1 0 1 0 1 0 1 1 1 1]\n",
      " [1 1 1 1 0 1 1 1 1 1]\n",
      " [0 0 0 0 1 1 0 0 0 0]]\n",
      "\n",
      "\n",
      "\t\t VILLE AVEC GANG\n",
      "\n",
      "\n",
      "\n"
     ]
    },
    {
     "data": {
      "text/plain": [
       "array([[1, 1, 0, 0, 0, 1, 1, 0, 0, 0],\n",
       "       [1, 1, 1, 1, 1, 0, 1, 1, 0, 0],\n",
       "       [1, 1, 1, 1, 0, 1, 0, 1, 1, 1],\n",
       "       [1, 0, 1, 1, 0, 1, 0, 0, 1, 1],\n",
       "       [0, 1, 1, 1, 1, 0, 1, 1, 1, 0],\n",
       "       [0, 1, 1, 0, 0, 1, 1, 1, 1, 0],\n",
       "       [1, 1, 1, 0, 1, 0, 1, 1, 1, 1],\n",
       "       [1, 0, 1, 0, 1, 0, 1, 1, 1, 1],\n",
       "       [1, 1, 1, 1, 0, 1, 1, 1, 1, 1],\n",
       "       [0, 0, 0, 0, 1, 1, 0, 0, 0, 0]], dtype=int32)"
      ]
     },
     "execution_count": 23,
     "metadata": {},
     "output_type": "execute_result"
    }
   ],
   "source": [
    "\n",
    "import numpy as np\n",
    "\n",
    "def creationDeGang(P):\n",
    "    \"\"\"H: nous voulons savoir si un carré crée un groupe de gang (nommé 3)\"\"\"\n",
    "    \n",
    "    tableau = tableauBase(P)\n",
    "    print (tableau)\n",
    "    for i in range(len(tableau)) :\n",
    "        for j in range(len(tableau)) :\n",
    "            if  i+1 < len(tableau) and i-1 >= 0 and  j+1 < len(tableau) and j-1 >= 0:\n",
    "                 if tableau[i,j] == 0 and tableau[i+1,j]==0  and tableau[i,j+1]==0 and tableau[i+1,j+1]==0 :\n",
    "                    \n",
    "                    tableau[i,j] = -1\n",
    "                    tableau[i+1,j]=-1 \n",
    "     \n",
    "                    tableau[i,j+1]=-1\n",
    "                    tableau[i+1,j+1]=-1\n",
    "                    \n",
    "    print(\"\\n\\n\\t\\t VILLE AVEC GANG\\n\\n\\n\")\n",
    "    return tableau\n",
    "creationDeGang(0.6)"
   ]
  },
  {
   "cell_type": "markdown",
   "metadata": {},
   "source": [
    "***les carrés de violet seront les gangs crée ,je 1 est en jaune et en bleu le 0***"
   ]
  },
  {
   "cell_type": "markdown",
   "metadata": {},
   "source": [
    "***On remarque que il y a des gangs qui se crée peu a peu dû à la grande présence de 0 (de pauvreté)***"
   ]
  },
  {
   "cell_type": "code",
   "execution_count": 24,
   "metadata": {},
   "outputs": [
    {
     "name": "stdout",
     "output_type": "stream",
     "text": [
      "\n",
      "\n",
      "\t\t VILLE BASIQUE\n",
      "\n",
      "\n",
      "\n",
      "[[1 1 1 1 1 1 1 1 1 1]\n",
      " [1 1 1 1 1 1 1 0 1 1]\n",
      " [1 1 1 1 1 1 1 1 0 1]\n",
      " [1 1 1 0 1 1 1 0 0 1]\n",
      " [0 1 0 1 1 1 1 1 1 1]\n",
      " [1 1 1 1 1 1 0 1 1 1]\n",
      " [1 1 1 1 1 1 0 0 0 1]\n",
      " [1 1 1 0 1 1 1 1 1 1]\n",
      " [1 1 1 1 1 1 1 1 1 1]\n",
      " [1 1 1 1 0 1 1 1 0 0]]\n",
      "\n",
      "\n",
      "\t\t VILLE AVEC GANG\n",
      "\n",
      "\n",
      "\n",
      "[[1 1 1 1 1 1 1 1 1 1]\n",
      " [1 1 1 1 1 1 1 0 1 1]\n",
      " [1 1 1 1 1 1 1 1 0 1]\n",
      " [1 1 1 0 1 1 1 0 0 1]\n",
      " [0 1 0 1 1 1 1 1 1 1]\n",
      " [1 1 1 1 1 1 0 1 1 1]\n",
      " [1 1 1 1 1 1 0 0 0 1]\n",
      " [1 1 1 0 1 1 1 1 1 1]\n",
      " [1 1 1 1 1 1 1 1 1 1]\n",
      " [1 1 1 1 0 1 1 1 0 0]]\n",
      "\n",
      "\n",
      "\t\t REACTION HABITANT\n",
      "\n",
      "\n",
      "\n"
     ]
    },
    {
     "data": {
      "text/plain": [
       "array([[1, 1, 1, 1, 1, 1, 1, 1, 1, 1],\n",
       "       [1, 1, 1, 1, 1, 1, 1, 0, 1, 1],\n",
       "       [1, 1, 1, 1, 1, 1, 1, 1, 0, 1],\n",
       "       [1, 1, 1, 0, 1, 1, 1, 0, 0, 1],\n",
       "       [0, 1, 0, 1, 1, 1, 1, 1, 1, 1],\n",
       "       [1, 1, 1, 1, 1, 1, 0, 1, 1, 1],\n",
       "       [1, 1, 1, 1, 1, 1, 0, 0, 0, 1],\n",
       "       [1, 1, 1, 0, 1, 1, 1, 1, 1, 1],\n",
       "       [1, 1, 1, 1, 1, 1, 1, 1, 1, 1],\n",
       "       [1, 1, 1, 1, 0, 1, 1, 1, 0, 0]], dtype=int32)"
      ]
     },
     "execution_count": 24,
     "metadata": {},
     "output_type": "execute_result"
    }
   ],
   "source": [
    "def creationInfluenceDeGang(P):\n",
    "    \n",
    "    tableau= creationDeGang(P)\n",
    "    \n",
    "    \n",
    "    print(tableau)\n",
    "    for i in range(len(tableau)) :\n",
    "        for j in range(len(tableau)) :\n",
    "             if  i+1 < len(tableau) and i-1 >= 0 and  j+1 < len(tableau) and j-1 >= 0 :    \n",
    "                if tableau[i,j] == 1 :\n",
    "                    moyenne = ( tableau[i,j-1] + tableau[i,j+1] + tableau[i+1,j] + tableau[i-1,j] )/4\n",
    "                     \n",
    "                    if moyenne < 0.5 :\n",
    "                            tableau[i,j] == tableau[i,j+1]\n",
    "                            tableau[i,j+1] == tableau[i,j]\n",
    "    print(\"\\n\\n\\t\\t REACTION HABITANT\\n\\n\\n\")\n",
    "    return tableau\n",
    "#ne se change pas verifier\n",
    "creationInfluenceDeGang(0.9)"
   ]
  },
  {
   "cell_type": "code",
   "execution_count": 25,
   "metadata": {},
   "outputs": [
    {
     "name": "stdout",
     "output_type": "stream",
     "text": [
      "\n",
      "\n",
      "\t\t VILLE BASIQUE\n",
      "\n",
      "\n",
      "\n",
      "[[0 1 1 1 1 1 0 1 1 0]\n",
      " [0 0 1 1 0 1 1 1 0 0]\n",
      " [0 0 0 1 0 1 1 1 0 1]\n",
      " [1 1 1 1 1 1 1 0 0 1]\n",
      " [0 0 1 1 1 1 1 0 1 0]\n",
      " [1 0 1 0 0 0 1 1 1 0]\n",
      " [0 1 0 0 0 1 1 1 0 1]\n",
      " [0 1 0 0 1 1 0 1 1 1]\n",
      " [1 1 1 0 1 0 0 1 0 1]\n",
      " [0 1 0 0 1 0 0 1 1 1]]\n",
      "\n",
      "\n",
      "\t\t VILLE AVEC GANG\n",
      "\n",
      "\n",
      "\n"
     ]
    },
    {
     "data": {
      "image/png": "[encoded data removed]",
      "text/plain": [
       "<Figure size 288x288 with 1 Axes>"
      ]
     },
     "metadata": {
      "needs_background": "light"
     },
     "output_type": "display_data"
    }
   ],
   "source": [
    "import matplotlib.pyplot as plt\n",
    "\n",
    "# Display matrix\n",
    "plt.matshow(creationDeGang(0.5))\n",
    "plt.show()"
   ]
  }
 ],
 "metadata": {
  "kernelspec": {
   "display_name": "Python 3",
   "language": "python",
   "name": "python3"
  },
  "language_info": {
   "codemirror_mode": {
    "name": "ipython",
    "version": 3
   },
   "file_extension": ".py",
   "mimetype": "text/x-python",
   "name": "python",
   "nbconvert_exporter": "python",
   "pygments_lexer": "ipython3",
   "version": "3.7.1"
  }
 },
 "nbformat": 4,
 "nbformat_minor": 2
}
